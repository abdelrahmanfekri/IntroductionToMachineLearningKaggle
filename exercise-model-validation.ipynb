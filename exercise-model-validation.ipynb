{
 "cells": [
  {
   "cell_type": "markdown",
   "id": "c2d6f030",
   "metadata": {
    "papermill": {
     "duration": 0.008619,
     "end_time": "2023-02-22T00:55:18.870039",
     "exception": false,
     "start_time": "2023-02-22T00:55:18.861420",
     "status": "completed"
    },
    "tags": []
   },
   "source": [
    "**This notebook is an exercise in the [Introduction to Machine Learning](https://www.kaggle.com/learn/intro-to-machine-learning) course.  You can reference the tutorial at [this link](https://www.kaggle.com/dansbecker/model-validation).**\n",
    "\n",
    "---\n"
   ]
  },
  {
   "cell_type": "markdown",
   "id": "2f652cef",
   "metadata": {
    "papermill": {
     "duration": 0.004467,
     "end_time": "2023-02-22T00:55:18.880143",
     "exception": false,
     "start_time": "2023-02-22T00:55:18.875676",
     "status": "completed"
    },
    "tags": []
   },
   "source": [
    "## Recap\n",
    "You've built a model. In this exercise you will test how good your model is.\n",
    "\n",
    "Run the cell below to set up your coding environment where the previous exercise left off."
   ]
  },
  {
   "cell_type": "code",
   "execution_count": 1,
   "id": "6e2743b4",
   "metadata": {
    "execution": {
     "iopub.execute_input": "2023-02-22T00:55:18.891970Z",
     "iopub.status.busy": "2023-02-22T00:55:18.891269Z",
     "iopub.status.idle": "2023-02-22T00:55:20.253520Z",
     "shell.execute_reply": "2023-02-22T00:55:20.252195Z"
    },
    "papermill": {
     "duration": 1.372492,
     "end_time": "2023-02-22T00:55:20.257210",
     "exception": false,
     "start_time": "2023-02-22T00:55:18.884718",
     "status": "completed"
    },
    "tags": []
   },
   "outputs": [
    {
     "name": "stdout",
     "output_type": "stream",
     "text": [
      "First in-sample predictions: [208500. 181500. 223500. 140000. 250000.]\n",
      "Actual target values for those homes: [208500, 181500, 223500, 140000, 250000]\n",
      "Setup Complete\n"
     ]
    }
   ],
   "source": [
    "# Code you have previously used to load data\n",
    "import pandas as pd\n",
    "from sklearn.tree import DecisionTreeRegressor\n",
    "\n",
    "# Path of the file to read\n",
    "iowa_file_path = '../input/home-data-for-ml-course/train.csv'\n",
    "\n",
    "home_data = pd.read_csv(iowa_file_path)\n",
    "y = home_data.SalePrice\n",
    "feature_columns = ['LotArea', 'YearBuilt', '1stFlrSF', '2ndFlrSF', 'FullBath', 'BedroomAbvGr', 'TotRmsAbvGrd']\n",
    "X = home_data[feature_columns]\n",
    "\n",
    "# Specify Model\n",
    "iowa_model = DecisionTreeRegressor()\n",
    "# Fit Model\n",
    "iowa_model.fit(X, y)\n",
    "\n",
    "print(\"First in-sample predictions:\", iowa_model.predict(X.head()))\n",
    "print(\"Actual target values for those homes:\", y.head().tolist())\n",
    "\n",
    "# Set up code checking\n",
    "from learntools.core import binder\n",
    "binder.bind(globals())\n",
    "from learntools.machine_learning.ex4 import *\n",
    "print(\"Setup Complete\")"
   ]
  },
  {
   "cell_type": "markdown",
   "id": "c33422c4",
   "metadata": {
    "papermill": {
     "duration": 0.004412,
     "end_time": "2023-02-22T00:55:20.267345",
     "exception": false,
     "start_time": "2023-02-22T00:55:20.262933",
     "status": "completed"
    },
    "tags": []
   },
   "source": [
    "# Exercises\n",
    "\n",
    "## Step 1: Split Your Data\n",
    "Use the `train_test_split` function to split up your data.\n",
    "\n",
    "Give it the argument `random_state=1` so the `check` functions know what to expect when verifying your code.\n",
    "\n",
    "Recall, your features are loaded in the DataFrame **X** and your target is loaded in **y**.\n"
   ]
  },
  {
   "cell_type": "code",
   "execution_count": 2,
   "id": "79e60655",
   "metadata": {
    "execution": {
     "iopub.execute_input": "2023-02-22T00:55:20.279241Z",
     "iopub.status.busy": "2023-02-22T00:55:20.277804Z",
     "iopub.status.idle": "2023-02-22T00:55:20.294477Z",
     "shell.execute_reply": "2023-02-22T00:55:20.293418Z"
    },
    "papermill": {
     "duration": 0.024956,
     "end_time": "2023-02-22T00:55:20.296926",
     "exception": false,
     "start_time": "2023-02-22T00:55:20.271970",
     "status": "completed"
    },
    "tags": []
   },
   "outputs": [
    {
     "data": {
      "application/javascript": [
       "parent.postMessage({\"jupyterEvent\": \"custom.exercise_interaction\", \"data\": {\"outcomeType\": 1, \"valueTowardsCompletion\": 0.25, \"interactionType\": 1, \"questionType\": 2, \"questionId\": \"1_SplitData\", \"learnToolsVersion\": \"0.3.4\", \"failureMessage\": \"\", \"exceptionClass\": \"\", \"trace\": \"\"}}, \"*\")"
      ],
      "text/plain": [
       "<IPython.core.display.Javascript object>"
      ]
     },
     "metadata": {},
     "output_type": "display_data"
    },
    {
     "data": {
      "text/markdown": [
       "<span style=\"color:#33cc33\">Correct</span>"
      ],
      "text/plain": [
       "Correct"
      ]
     },
     "metadata": {},
     "output_type": "display_data"
    }
   ],
   "source": [
    "# Import the train_test_split function and uncomment\n",
    "# from _ import _\n",
    "from sklearn.model_selection import train_test_split\n",
    "# fill in and uncomment\n",
    "train_X, val_X, train_y, val_y = train_test_split(X,y,random_state = 1)\n",
    "\n",
    "# Check your answer\n",
    "step_1.check()"
   ]
  },
  {
   "cell_type": "code",
   "execution_count": 3,
   "id": "45550075",
   "metadata": {
    "execution": {
     "iopub.execute_input": "2023-02-22T00:55:20.311469Z",
     "iopub.status.busy": "2023-02-22T00:55:20.310491Z",
     "iopub.status.idle": "2023-02-22T00:55:20.324322Z",
     "shell.execute_reply": "2023-02-22T00:55:20.322993Z"
    },
    "papermill": {
     "duration": 0.024949,
     "end_time": "2023-02-22T00:55:20.326888",
     "exception": false,
     "start_time": "2023-02-22T00:55:20.301939",
     "status": "completed"
    },
    "tags": []
   },
   "outputs": [
    {
     "data": {
      "application/javascript": [
       "parent.postMessage({\"jupyterEvent\": \"custom.exercise_interaction\", \"data\": {\"interactionType\": 3, \"questionType\": 2, \"questionId\": \"1_SplitData\", \"learnToolsVersion\": \"0.3.4\", \"valueTowardsCompletion\": 0.0, \"failureMessage\": \"\", \"exceptionClass\": \"\", \"trace\": \"\", \"outcomeType\": 4}}, \"*\")"
      ],
      "text/plain": [
       "<IPython.core.display.Javascript object>"
      ]
     },
     "metadata": {},
     "output_type": "display_data"
    },
    {
     "data": {
      "text/markdown": [
       "<span style=\"color:#33cc99\">Solution:</span> \n",
       "```python\n",
       "from sklearn.model_selection import train_test_split\n",
       "train_X, val_X, train_y, val_y = train_test_split(X, y, random_state=1)\n",
       "```"
      ],
      "text/plain": [
       "Solution: \n",
       "```python\n",
       "from sklearn.model_selection import train_test_split\n",
       "train_X, val_X, train_y, val_y = train_test_split(X, y, random_state=1)\n",
       "```"
      ]
     },
     "metadata": {},
     "output_type": "display_data"
    }
   ],
   "source": [
    "# The lines below will show you a hint or the solution.\n",
    "# step_1.hint() \n",
    "step_1.solution()\n"
   ]
  },
  {
   "cell_type": "markdown",
   "id": "5f19ed3a",
   "metadata": {
    "papermill": {
     "duration": 0.004927,
     "end_time": "2023-02-22T00:55:20.338015",
     "exception": false,
     "start_time": "2023-02-22T00:55:20.333088",
     "status": "completed"
    },
    "tags": []
   },
   "source": [
    "## Step 2: Specify and Fit the Model\n",
    "\n",
    "Create a `DecisionTreeRegressor` model and fit it to the relevant data.\n",
    "Set `random_state` to 1 again when creating the model."
   ]
  },
  {
   "cell_type": "code",
   "execution_count": 4,
   "id": "781051d9",
   "metadata": {
    "execution": {
     "iopub.execute_input": "2023-02-22T00:55:20.352105Z",
     "iopub.status.busy": "2023-02-22T00:55:20.351361Z",
     "iopub.status.idle": "2023-02-22T00:55:20.385356Z",
     "shell.execute_reply": "2023-02-22T00:55:20.384191Z"
    },
    "papermill": {
     "duration": 0.053035,
     "end_time": "2023-02-22T00:55:20.396865",
     "exception": false,
     "start_time": "2023-02-22T00:55:20.343830",
     "status": "completed"
    },
    "tags": []
   },
   "outputs": [
    {
     "name": "stdout",
     "output_type": "stream",
     "text": [
      "[186500. 184000. 130000.  92000. 164500. 220000. 335000. 144152. 215000.\n",
      " 262000.]\n",
      "[186500. 184000. 130000.  92000. 164500. 220000. 335000. 144152. 215000.\n",
      " 262000.]\n"
     ]
    },
    {
     "data": {
      "application/javascript": [
       "parent.postMessage({\"jupyterEvent\": \"custom.exercise_interaction\", \"data\": {\"outcomeType\": 1, \"valueTowardsCompletion\": 0.25, \"interactionType\": 1, \"questionType\": 2, \"questionId\": \"2_FitModelWithTrain\", \"learnToolsVersion\": \"0.3.4\", \"failureMessage\": \"\", \"exceptionClass\": \"\", \"trace\": \"\"}}, \"*\")"
      ],
      "text/plain": [
       "<IPython.core.display.Javascript object>"
      ]
     },
     "metadata": {},
     "output_type": "display_data"
    },
    {
     "data": {
      "text/markdown": [
       "<span style=\"color:#33cc33\">Correct</span>"
      ],
      "text/plain": [
       "Correct"
      ]
     },
     "metadata": {},
     "output_type": "display_data"
    }
   ],
   "source": [
    "# You imported DecisionTreeRegressor in your last exercise\n",
    "# and that code has been copied to the setup code above. So, no need to\n",
    "# import it again\n",
    "from sklearn.tree import DecisionTreeRegressor\n",
    "# Specify the model\n",
    "iowa_model = DecisionTreeRegressor(random_state = 1)\n",
    "\n",
    "# Fit iowa_model with the training data.\n",
    "iowa_model.fit(train_X,train_y)\n",
    "\n",
    "# Check your answer\n",
    "step_2.check()"
   ]
  },
  {
   "cell_type": "code",
   "execution_count": 5,
   "id": "47100bc2",
   "metadata": {
    "execution": {
     "iopub.execute_input": "2023-02-22T00:55:20.411727Z",
     "iopub.status.busy": "2023-02-22T00:55:20.411228Z",
     "iopub.status.idle": "2023-02-22T00:55:20.415785Z",
     "shell.execute_reply": "2023-02-22T00:55:20.414665Z"
    },
    "papermill": {
     "duration": 0.014646,
     "end_time": "2023-02-22T00:55:20.418243",
     "exception": false,
     "start_time": "2023-02-22T00:55:20.403597",
     "status": "completed"
    },
    "tags": []
   },
   "outputs": [],
   "source": [
    "# step_2.hint()\n",
    "# step_2.solution()"
   ]
  },
  {
   "cell_type": "markdown",
   "id": "3d403b0a",
   "metadata": {
    "papermill": {
     "duration": 0.005602,
     "end_time": "2023-02-22T00:55:20.429532",
     "exception": false,
     "start_time": "2023-02-22T00:55:20.423930",
     "status": "completed"
    },
    "tags": []
   },
   "source": [
    "## Step 3: Make Predictions with Validation data\n"
   ]
  },
  {
   "cell_type": "code",
   "execution_count": 6,
   "id": "b54d1b18",
   "metadata": {
    "execution": {
     "iopub.execute_input": "2023-02-22T00:55:20.443006Z",
     "iopub.status.busy": "2023-02-22T00:55:20.442460Z",
     "iopub.status.idle": "2023-02-22T00:55:20.457082Z",
     "shell.execute_reply": "2023-02-22T00:55:20.455902Z"
    },
    "papermill": {
     "duration": 0.024242,
     "end_time": "2023-02-22T00:55:20.459453",
     "exception": false,
     "start_time": "2023-02-22T00:55:20.435211",
     "status": "completed"
    },
    "tags": []
   },
   "outputs": [
    {
     "data": {
      "application/javascript": [
       "parent.postMessage({\"jupyterEvent\": \"custom.exercise_interaction\", \"data\": {\"outcomeType\": 1, \"valueTowardsCompletion\": 0.25, \"interactionType\": 1, \"questionType\": 2, \"questionId\": \"3_ValPreds\", \"learnToolsVersion\": \"0.3.4\", \"failureMessage\": \"\", \"exceptionClass\": \"\", \"trace\": \"\"}}, \"*\")"
      ],
      "text/plain": [
       "<IPython.core.display.Javascript object>"
      ]
     },
     "metadata": {},
     "output_type": "display_data"
    },
    {
     "data": {
      "text/markdown": [
       "<span style=\"color:#33cc33\">Correct</span>"
      ],
      "text/plain": [
       "Correct"
      ]
     },
     "metadata": {},
     "output_type": "display_data"
    }
   ],
   "source": [
    "# Predict with all validation observations\n",
    "val_predictions = iowa_model.predict(val_X)\n",
    "\n",
    "# Check your answer\n",
    "step_3.check()"
   ]
  },
  {
   "cell_type": "code",
   "execution_count": 7,
   "id": "1e0406bd",
   "metadata": {
    "execution": {
     "iopub.execute_input": "2023-02-22T00:55:20.476816Z",
     "iopub.status.busy": "2023-02-22T00:55:20.476275Z",
     "iopub.status.idle": "2023-02-22T00:55:20.481721Z",
     "shell.execute_reply": "2023-02-22T00:55:20.480437Z"
    },
    "papermill": {
     "duration": 0.018999,
     "end_time": "2023-02-22T00:55:20.484129",
     "exception": false,
     "start_time": "2023-02-22T00:55:20.465130",
     "status": "completed"
    },
    "tags": []
   },
   "outputs": [],
   "source": [
    "# step_3.hint()\n",
    "# step_3.solution()"
   ]
  },
  {
   "cell_type": "markdown",
   "id": "0a533996",
   "metadata": {
    "papermill": {
     "duration": 0.005513,
     "end_time": "2023-02-22T00:55:20.495653",
     "exception": false,
     "start_time": "2023-02-22T00:55:20.490140",
     "status": "completed"
    },
    "tags": []
   },
   "source": [
    "Inspect your predictions and actual values from validation data."
   ]
  },
  {
   "cell_type": "code",
   "execution_count": 8,
   "id": "f82b3c1b",
   "metadata": {
    "execution": {
     "iopub.execute_input": "2023-02-22T00:55:20.509624Z",
     "iopub.status.busy": "2023-02-22T00:55:20.509107Z",
     "iopub.status.idle": "2023-02-22T00:55:20.517794Z",
     "shell.execute_reply": "2023-02-22T00:55:20.516414Z"
    },
    "papermill": {
     "duration": 0.019497,
     "end_time": "2023-02-22T00:55:20.521013",
     "exception": false,
     "start_time": "2023-02-22T00:55:20.501516",
     "status": "completed"
    },
    "tags": []
   },
   "outputs": [
    {
     "name": "stdout",
     "output_type": "stream",
     "text": [
      "258     231500\n",
      "267     179500\n",
      "288     122000\n",
      "649      84500\n",
      "1233    142000\n",
      "Name: SalePrice, dtype: int64\n",
      "[-45000.   4500.   8000.   7500.  22500.]\n"
     ]
    }
   ],
   "source": [
    "# print the top few validation predictions\n",
    "import numpy as np\n",
    "print(val_y.head())\n",
    "# print the top few actual prices from validation data\n",
    "print((val_predictions[:5] - val_y.head().values))"
   ]
  },
  {
   "cell_type": "markdown",
   "id": "aac3c1e7",
   "metadata": {
    "papermill": {
     "duration": 0.005933,
     "end_time": "2023-02-22T00:55:20.533016",
     "exception": false,
     "start_time": "2023-02-22T00:55:20.527083",
     "status": "completed"
    },
    "tags": []
   },
   "source": [
    "What do you notice that is different from what you saw with in-sample predictions (which are printed after the top code cell in this page).\n",
    "\n",
    "Do you remember why validation predictions differ from in-sample (or training) predictions? This is an important idea from the last lesson.\n",
    "\n",
    "## Step 4: Calculate the Mean Absolute Error in Validation Data\n"
   ]
  },
  {
   "cell_type": "code",
   "execution_count": 9,
   "id": "553b72e8",
   "metadata": {
    "execution": {
     "iopub.execute_input": "2023-02-22T00:55:20.548801Z",
     "iopub.status.busy": "2023-02-22T00:55:20.548293Z",
     "iopub.status.idle": "2023-02-22T00:55:20.561083Z",
     "shell.execute_reply": "2023-02-22T00:55:20.559926Z"
    },
    "papermill": {
     "duration": 0.023414,
     "end_time": "2023-02-22T00:55:20.563379",
     "exception": false,
     "start_time": "2023-02-22T00:55:20.539965",
     "status": "completed"
    },
    "tags": []
   },
   "outputs": [
    {
     "name": "stdout",
     "output_type": "stream",
     "text": [
      "29652.931506849316\n"
     ]
    },
    {
     "data": {
      "application/javascript": [
       "parent.postMessage({\"jupyterEvent\": \"custom.exercise_interaction\", \"data\": {\"outcomeType\": 1, \"valueTowardsCompletion\": 0.25, \"interactionType\": 1, \"questionType\": 1, \"questionId\": \"4_MAE\", \"learnToolsVersion\": \"0.3.4\", \"failureMessage\": \"\", \"exceptionClass\": \"\", \"trace\": \"\"}}, \"*\")"
      ],
      "text/plain": [
       "<IPython.core.display.Javascript object>"
      ]
     },
     "metadata": {},
     "output_type": "display_data"
    },
    {
     "data": {
      "text/markdown": [
       "<span style=\"color:#33cc33\">Correct</span>"
      ],
      "text/plain": [
       "Correct"
      ]
     },
     "metadata": {},
     "output_type": "display_data"
    }
   ],
   "source": [
    "from sklearn.metrics import mean_absolute_error\n",
    "val_mae = mean_absolute_error(val_y,val_predictions)\n",
    "\n",
    "# uncomment following line to see the validation_mae\n",
    "print(val_mae)\n",
    "\n",
    "# Check your answer\n",
    "step_4.check()"
   ]
  },
  {
   "cell_type": "code",
   "execution_count": 10,
   "id": "de1b60a5",
   "metadata": {
    "execution": {
     "iopub.execute_input": "2023-02-22T00:55:20.584306Z",
     "iopub.status.busy": "2023-02-22T00:55:20.583611Z",
     "iopub.status.idle": "2023-02-22T00:55:20.588373Z",
     "shell.execute_reply": "2023-02-22T00:55:20.587215Z"
    },
    "papermill": {
     "duration": 0.020966,
     "end_time": "2023-02-22T00:55:20.590553",
     "exception": false,
     "start_time": "2023-02-22T00:55:20.569587",
     "status": "completed"
    },
    "tags": []
   },
   "outputs": [],
   "source": [
    "# step_4.hint()\n",
    "# step_4.solution()"
   ]
  },
  {
   "cell_type": "markdown",
   "id": "5493a3c6",
   "metadata": {
    "papermill": {
     "duration": 0.005755,
     "end_time": "2023-02-22T00:55:20.602536",
     "exception": false,
     "start_time": "2023-02-22T00:55:20.596781",
     "status": "completed"
    },
    "tags": []
   },
   "source": [
    "Is that MAE good?  There isn't a general rule for what values are good that applies across applications. But you'll see how to use (and improve) this number in the next step.\n",
    "\n",
    "# Keep Going\n",
    "\n",
    "You are ready for **[Underfitting and Overfitting](https://www.kaggle.com/dansbecker/underfitting-and-overfitting).**\n"
   ]
  },
  {
   "cell_type": "markdown",
   "id": "b42727b2",
   "metadata": {
    "papermill": {
     "duration": 0.005658,
     "end_time": "2023-02-22T00:55:20.614469",
     "exception": false,
     "start_time": "2023-02-22T00:55:20.608811",
     "status": "completed"
    },
    "tags": []
   },
   "source": [
    "---\n",
    "\n",
    "\n",
    "\n",
    "\n",
    "*Have questions or comments? Visit the [course discussion forum](https://www.kaggle.com/learn/intro-to-machine-learning/discussion) to chat with other learners.*"
   ]
  }
 ],
 "metadata": {
  "kernelspec": {
   "display_name": "Python 3",
   "language": "python",
   "name": "python3"
  },
  "language_info": {
   "codemirror_mode": {
    "name": "ipython",
    "version": 3
   },
   "file_extension": ".py",
   "mimetype": "text/x-python",
   "name": "python",
   "nbconvert_exporter": "python",
   "pygments_lexer": "ipython3",
   "version": "3.7.12"
  },
  "papermill": {
   "default_parameters": {},
   "duration": 10.969107,
   "end_time": "2023-02-22T00:55:21.342760",
   "environment_variables": {},
   "exception": null,
   "input_path": "__notebook__.ipynb",
   "output_path": "__notebook__.ipynb",
   "parameters": {},
   "start_time": "2023-02-22T00:55:10.373653",
   "version": "2.3.4"
  }
 },
 "nbformat": 4,
 "nbformat_minor": 5
}
