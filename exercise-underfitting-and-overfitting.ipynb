{
 "cells": [
  {
   "cell_type": "markdown",
   "id": "525c20ef",
   "metadata": {
    "papermill": {
     "duration": 0.00756,
     "end_time": "2023-02-22T01:50:11.066051",
     "exception": false,
     "start_time": "2023-02-22T01:50:11.058491",
     "status": "completed"
    },
    "tags": []
   },
   "source": [
    "**This notebook is an exercise in the [Introduction to Machine Learning](https://www.kaggle.com/learn/intro-to-machine-learning) course.  You can reference the tutorial at [this link](https://www.kaggle.com/dansbecker/underfitting-and-overfitting).**\n",
    "\n",
    "---\n"
   ]
  },
  {
   "cell_type": "markdown",
   "id": "b75e7665",
   "metadata": {
    "papermill": {
     "duration": 0.003452,
     "end_time": "2023-02-22T01:50:11.073300",
     "exception": false,
     "start_time": "2023-02-22T01:50:11.069848",
     "status": "completed"
    },
    "tags": []
   },
   "source": [
    "## Recap\n",
    "You've built your first model, and now it's time to optimize the size of the tree to make better predictions. Run this cell to set up your coding environment where the previous step left off."
   ]
  },
  {
   "cell_type": "code",
   "execution_count": 1,
   "id": "d3908070",
   "metadata": {
    "execution": {
     "iopub.execute_input": "2023-02-22T01:50:11.082623Z",
     "iopub.status.busy": "2023-02-22T01:50:11.082142Z",
     "iopub.status.idle": "2023-02-22T01:50:12.319256Z",
     "shell.execute_reply": "2023-02-22T01:50:12.317963Z"
    },
    "papermill": {
     "duration": 1.246726,
     "end_time": "2023-02-22T01:50:12.323628",
     "exception": false,
     "start_time": "2023-02-22T01:50:11.076902",
     "status": "completed"
    },
    "tags": []
   },
   "outputs": [
    {
     "name": "stdout",
     "output_type": "stream",
     "text": [
      "Validation MAE: 29,653\n",
      "\n",
      "Setup complete\n"
     ]
    }
   ],
   "source": [
    "# Code you have previously used to load data\n",
    "import pandas as pd\n",
    "from sklearn.metrics import mean_absolute_error\n",
    "from sklearn.model_selection import train_test_split\n",
    "from sklearn.tree import DecisionTreeRegressor\n",
    "\n",
    "\n",
    "# Path of the file to read\n",
    "iowa_file_path = '../input/home-data-for-ml-course/train.csv'\n",
    "\n",
    "home_data = pd.read_csv(iowa_file_path)\n",
    "# Create target object and call it y\n",
    "y = home_data.SalePrice\n",
    "# Create X\n",
    "features = ['LotArea', 'YearBuilt', '1stFlrSF', '2ndFlrSF', 'FullBath', 'BedroomAbvGr', 'TotRmsAbvGrd']\n",
    "X = home_data[features]\n",
    "\n",
    "# Split into validation and training data\n",
    "train_X, val_X, train_y, val_y = train_test_split(X, y, random_state=1)\n",
    "\n",
    "# Specify Model\n",
    "iowa_model = DecisionTreeRegressor(random_state=1)\n",
    "# Fit Model\n",
    "iowa_model.fit(train_X, train_y)\n",
    "\n",
    "# Make validation predictions and calculate mean absolute error\n",
    "val_predictions = iowa_model.predict(val_X)\n",
    "val_mae = mean_absolute_error(val_predictions, val_y)\n",
    "print(\"Validation MAE: {:,.0f}\".format(val_mae))\n",
    "\n",
    "# Set up code checking\n",
    "from learntools.core import binder\n",
    "binder.bind(globals())\n",
    "from learntools.machine_learning.ex5 import *\n",
    "print(\"\\nSetup complete\")"
   ]
  },
  {
   "cell_type": "markdown",
   "id": "5df49bdb",
   "metadata": {
    "papermill": {
     "duration": 0.004999,
     "end_time": "2023-02-22T01:50:12.333280",
     "exception": false,
     "start_time": "2023-02-22T01:50:12.328281",
     "status": "completed"
    },
    "tags": []
   },
   "source": [
    "# Exercises\n",
    "You could write the function `get_mae` yourself. For now, we'll supply it. This is the same function you read about in the previous lesson. Just run the cell below."
   ]
  },
  {
   "cell_type": "code",
   "execution_count": 2,
   "id": "07f4d7a9",
   "metadata": {
    "execution": {
     "iopub.execute_input": "2023-02-22T01:50:12.344924Z",
     "iopub.status.busy": "2023-02-22T01:50:12.344308Z",
     "iopub.status.idle": "2023-02-22T01:50:12.351127Z",
     "shell.execute_reply": "2023-02-22T01:50:12.349838Z"
    },
    "papermill": {
     "duration": 0.015443,
     "end_time": "2023-02-22T01:50:12.353396",
     "exception": false,
     "start_time": "2023-02-22T01:50:12.337953",
     "status": "completed"
    },
    "tags": []
   },
   "outputs": [],
   "source": [
    "def get_mae(max_leaf_nodes, train_X, val_X, train_y, val_y):\n",
    "    model = DecisionTreeRegressor(max_leaf_nodes=max_leaf_nodes, random_state=0)\n",
    "    model.fit(train_X, train_y)\n",
    "    preds_val = model.predict(val_X)\n",
    "    mae = mean_absolute_error(val_y, preds_val)\n",
    "    return(mae)"
   ]
  },
  {
   "cell_type": "markdown",
   "id": "535bdcb0",
   "metadata": {
    "papermill": {
     "duration": 0.003529,
     "end_time": "2023-02-22T01:50:12.360740",
     "exception": false,
     "start_time": "2023-02-22T01:50:12.357211",
     "status": "completed"
    },
    "tags": []
   },
   "source": [
    "## Step 1: Compare Different Tree Sizes\n",
    "Write a loop that tries the following values for *max_leaf_nodes* from a set of possible values.\n",
    "\n",
    "Call the *get_mae* function on each value of max_leaf_nodes. Store the output in some way that allows you to select the value of `max_leaf_nodes` that gives the most accurate model on your data."
   ]
  },
  {
   "cell_type": "code",
   "execution_count": 3,
   "id": "22b144f9",
   "metadata": {
    "execution": {
     "iopub.execute_input": "2023-02-22T01:50:12.372915Z",
     "iopub.status.busy": "2023-02-22T01:50:12.371893Z",
     "iopub.status.idle": "2023-02-22T01:50:12.455035Z",
     "shell.execute_reply": "2023-02-22T01:50:12.453919Z"
    },
    "papermill": {
     "duration": 0.092233,
     "end_time": "2023-02-22T01:50:12.457651",
     "exception": false,
     "start_time": "2023-02-22T01:50:12.365418",
     "status": "completed"
    },
    "tags": []
   },
   "outputs": [
    {
     "name": "stdout",
     "output_type": "stream",
     "text": [
      "65\n",
      "27044.389659920456\n"
     ]
    },
    {
     "data": {
      "application/javascript": [
       "parent.postMessage({\"jupyterEvent\": \"custom.exercise_interaction\", \"data\": {\"outcomeType\": 2, \"failureMessage\": \"Incorrect value for `best_tree_size`: `65`\", \"interactionType\": 1, \"questionType\": 1, \"questionId\": \"1_BestTreeSize\", \"learnToolsVersion\": \"0.3.4\", \"valueTowardsCompletion\": 0.0, \"exceptionClass\": \"\", \"trace\": \"\"}}, \"*\")"
      ],
      "text/plain": [
       "<IPython.core.display.Javascript object>"
      ]
     },
     "metadata": {},
     "output_type": "display_data"
    },
    {
     "data": {
      "text/markdown": [
       "<span style=\"color:#cc3333\">Incorrect:</span> Incorrect value for `best_tree_size`: `65`"
      ],
      "text/plain": [
       "Incorrect: Incorrect value for `best_tree_size`: `65`"
      ]
     },
     "metadata": {},
     "output_type": "display_data"
    }
   ],
   "source": [
    "candidate_max_leaf_nodes = [i for i in range(5,250,30)]\n",
    "# Write loop to find the ideal tree size from candidate_max_leaf_nodes\n",
    "error = []\n",
    "for i in candidate_max_leaf_nodes:\n",
    "    error.append(get_mae(i,train_X, val_X, train_y, val_y))\n",
    "# Store the best value of max_leaf_nodes (it will be either 5, 25, 50, 100, 250 or 500)\n",
    "best_tree_size = candidate_max_leaf_nodes[error.index(min(error))]\n",
    "print(best_tree_size)\n",
    "print(min(error))\n",
    "# Check your answer\n",
    "step_1.check()"
   ]
  },
  {
   "cell_type": "code",
   "execution_count": 4,
   "id": "5826c9d4",
   "metadata": {
    "execution": {
     "iopub.execute_input": "2023-02-22T01:50:12.469971Z",
     "iopub.status.busy": "2023-02-22T01:50:12.469588Z",
     "iopub.status.idle": "2023-02-22T01:50:12.474367Z",
     "shell.execute_reply": "2023-02-22T01:50:12.473118Z"
    },
    "papermill": {
     "duration": 0.013008,
     "end_time": "2023-02-22T01:50:12.476628",
     "exception": false,
     "start_time": "2023-02-22T01:50:12.463620",
     "status": "completed"
    },
    "tags": []
   },
   "outputs": [],
   "source": [
    "# The lines below will show you a hint or the solution.\n",
    "# step_1.hint() \n",
    "# step_1.solution()"
   ]
  },
  {
   "cell_type": "markdown",
   "id": "2e5c699c",
   "metadata": {
    "papermill": {
     "duration": 0.004025,
     "end_time": "2023-02-22T01:50:12.484834",
     "exception": false,
     "start_time": "2023-02-22T01:50:12.480809",
     "status": "completed"
    },
    "tags": []
   },
   "source": [
    "## Step 2: Fit Model Using All Data\n",
    "You know the best tree size. If you were going to deploy this model in practice, you would make it even more accurate by using all of the data and keeping that tree size.  That is, you don't need to hold out the validation data now that you've made all your modeling decisions."
   ]
  },
  {
   "cell_type": "code",
   "execution_count": 5,
   "id": "b1d55393",
   "metadata": {
    "execution": {
     "iopub.execute_input": "2023-02-22T01:50:12.495754Z",
     "iopub.status.busy": "2023-02-22T01:50:12.494550Z",
     "iopub.status.idle": "2023-02-22T01:50:12.513080Z",
     "shell.execute_reply": "2023-02-22T01:50:12.512193Z"
    },
    "papermill": {
     "duration": 0.02674,
     "end_time": "2023-02-22T01:50:12.515620",
     "exception": false,
     "start_time": "2023-02-22T01:50:12.488880",
     "status": "completed"
    },
    "tags": []
   },
   "outputs": [
    {
     "data": {
      "application/javascript": [
       "parent.postMessage({\"jupyterEvent\": \"custom.exercise_interaction\", \"data\": {\"outcomeType\": 1, \"valueTowardsCompletion\": 0.5, \"interactionType\": 1, \"questionType\": 2, \"questionId\": \"2_FitModelWithAllData\", \"learnToolsVersion\": \"0.3.4\", \"failureMessage\": \"\", \"exceptionClass\": \"\", \"trace\": \"\"}}, \"*\")"
      ],
      "text/plain": [
       "<IPython.core.display.Javascript object>"
      ]
     },
     "metadata": {},
     "output_type": "display_data"
    },
    {
     "data": {
      "text/markdown": [
       "<span style=\"color:#33cc33\">Correct</span>"
      ],
      "text/plain": [
       "Correct"
      ]
     },
     "metadata": {},
     "output_type": "display_data"
    }
   ],
   "source": [
    "# Fill in argument to make optimal size and uncomment\n",
    "final_model = DecisionTreeRegressor(max_leaf_nodes = 100,random_state = 0)\n",
    "\n",
    "# fit the final model and uncomment the next two lines\n",
    "final_model.fit(X,y)\n",
    "\n",
    "# Check your answer\n",
    "step_2.check()"
   ]
  },
  {
   "cell_type": "code",
   "execution_count": 6,
   "id": "9d64e416",
   "metadata": {
    "execution": {
     "iopub.execute_input": "2023-02-22T01:50:12.527441Z",
     "iopub.status.busy": "2023-02-22T01:50:12.526539Z",
     "iopub.status.idle": "2023-02-22T01:50:12.533877Z",
     "shell.execute_reply": "2023-02-22T01:50:12.532526Z"
    },
    "papermill": {
     "duration": 0.016103,
     "end_time": "2023-02-22T01:50:12.536508",
     "exception": false,
     "start_time": "2023-02-22T01:50:12.520405",
     "status": "completed"
    },
    "tags": []
   },
   "outputs": [
    {
     "name": "stdout",
     "output_type": "stream",
     "text": [
      "[0.06306637 0.38452541 0.33932593 0.17685477 0.00721259 0.01548434\n",
      " 0.01353059]\n",
      "['LotArea', 'YearBuilt', '1stFlrSF', '2ndFlrSF', 'FullBath', 'BedroomAbvGr', 'TotRmsAbvGrd']\n"
     ]
    }
   ],
   "source": [
    "print(final_model.feature_importances_)\n",
    "print(features)"
   ]
  },
  {
   "cell_type": "code",
   "execution_count": 7,
   "id": "adc2e624",
   "metadata": {
    "execution": {
     "iopub.execute_input": "2023-02-22T01:50:12.547505Z",
     "iopub.status.busy": "2023-02-22T01:50:12.547037Z",
     "iopub.status.idle": "2023-02-22T01:50:12.551982Z",
     "shell.execute_reply": "2023-02-22T01:50:12.550976Z"
    },
    "papermill": {
     "duration": 0.013063,
     "end_time": "2023-02-22T01:50:12.554141",
     "exception": false,
     "start_time": "2023-02-22T01:50:12.541078",
     "status": "completed"
    },
    "tags": []
   },
   "outputs": [],
   "source": [
    "# step_2.hint()\n",
    "# step_2.solution()"
   ]
  },
  {
   "cell_type": "markdown",
   "id": "b801b5cd",
   "metadata": {
    "papermill": {
     "duration": 0.004013,
     "end_time": "2023-02-22T01:50:12.562580",
     "exception": false,
     "start_time": "2023-02-22T01:50:12.558567",
     "status": "completed"
    },
    "tags": []
   },
   "source": [
    "You've tuned this model and improved your results. But we are still using Decision Tree models, which are not very sophisticated by modern machine learning standards. In the next step you will learn to use Random Forests to improve your models even more.\n",
    "\n",
    "# Keep Going\n",
    "\n",
    "You are ready for **[Random Forests](https://www.kaggle.com/dansbecker/random-forests).**\n"
   ]
  },
  {
   "cell_type": "markdown",
   "id": "455f4d1e",
   "metadata": {
    "papermill": {
     "duration": 0.004031,
     "end_time": "2023-02-22T01:50:12.570914",
     "exception": false,
     "start_time": "2023-02-22T01:50:12.566883",
     "status": "completed"
    },
    "tags": []
   },
   "source": [
    "---\n",
    "\n",
    "\n",
    "\n",
    "\n",
    "*Have questions or comments? Visit the [course discussion forum](https://www.kaggle.com/learn/intro-to-machine-learning/discussion) to chat with other learners.*"
   ]
  }
 ],
 "metadata": {
  "kernelspec": {
   "display_name": "Python 3",
   "language": "python",
   "name": "python3"
  },
  "language_info": {
   "codemirror_mode": {
    "name": "ipython",
    "version": 3
   },
   "file_extension": ".py",
   "mimetype": "text/x-python",
   "name": "python",
   "nbconvert_exporter": "python",
   "pygments_lexer": "ipython3",
   "version": "3.7.12"
  },
  "papermill": {
   "default_parameters": {},
   "duration": 10.726174,
   "end_time": "2023-02-22T01:50:13.397672",
   "environment_variables": {},
   "exception": null,
   "input_path": "__notebook__.ipynb",
   "output_path": "__notebook__.ipynb",
   "parameters": {},
   "start_time": "2023-02-22T01:50:02.671498",
   "version": "2.3.4"
  }
 },
 "nbformat": 4,
 "nbformat_minor": 5
}
